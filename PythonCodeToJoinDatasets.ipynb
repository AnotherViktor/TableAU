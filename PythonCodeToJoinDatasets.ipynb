{
 "cells": [
  {
   "cell_type": "code",
   "execution_count": null,
   "metadata": {},
   "outputs": [],
   "source": [
    "import pandas as pd\n",
    "\n",
    "# Load both CSV files\n",
    "df_2023 = pd.read_csv('2023.csv')\n",
    "df_2024 = pd.read_csv('2024.csv')\n",
    "\n",
    "# Select the required columns and add a 'year' marker\n",
    "df_2023_selected = df_2023[['ride_id', 'member_casual', 'started_at', 'ended_at']].copy()\n",
    "df_2023_selected['year'] = 2023\n",
    "\n",
    "df_2024_selected = df_2024[['ride_id', 'member_casual', 'started_at', 'ended_at']].copy()\n",
    "df_2024_selected['year'] = 2024\n",
    "\n",
    "# Combine the data from both years into one DataFrame\n",
    "combined_df = pd.concat([df_2023_selected, df_2024_selected], ignore_index=True)\n",
    "\n",
    "# Save the combined DataFrame to a new CSV file if needed\n",
    "combined_df.to_csv('Combined_2023_2024.csv', index=False)\n",
    "\n",
    "combined_df\n"
   ]
  }
 ],
 "metadata": {
  "language_info": {
   "name": "python"
  }
 },
 "nbformat": 4,
 "nbformat_minor": 2
}
